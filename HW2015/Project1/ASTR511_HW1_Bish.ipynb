{
 "metadata": {
  "name": "",
  "signature": "sha256:7349072b143f311e9299b63df44122365e5d9dc0a467a1c7464f429ce45b26ce"
 },
 "nbformat": 3,
 "nbformat_minor": 0,
 "worksheets": [
  {
   "cells": [
    {
     "cell_type": "heading",
     "level": 1,
     "metadata": {},
     "source": [
      "Term Project #1"
     ]
    },
    {
     "cell_type": "heading",
     "level": 3,
     "metadata": {},
     "source": [
      "ASTR511, Winter 2015"
     ]
    },
    {
     "cell_type": "heading",
     "level": 3,
     "metadata": {},
     "source": [
      "Hannah Bish"
     ]
    },
    {
     "cell_type": "code",
     "collapsed": false,
     "input": [
      "import numpy as np\n",
      "from matplotlib import pyplot as plt"
     ],
     "language": "python",
     "metadata": {},
     "outputs": [],
     "prompt_number": 208
    },
    {
     "cell_type": "code",
     "collapsed": false,
     "input": [
      "#Read data to 1d arrays\n",
      "ra, dec, run, Ar, u, g, r, i, z, uErr, gErr, rErr, iErr, zErr, pmL, pmB, pmErr = loadtxt('Astr511HW1data.dat', unpack=True)"
     ],
     "language": "python",
     "metadata": {},
     "outputs": [],
     "prompt_number": 209
    },
    {
     "cell_type": "code",
     "collapsed": false,
     "input": [
      "#Calculate colors\n",
      "g_i = g - i\n",
      "u_g = u - g\n",
      "g_r = g - r"
     ],
     "language": "python",
     "metadata": {},
     "outputs": [],
     "prompt_number": 210
    },
    {
     "cell_type": "code",
     "collapsed": false,
     "input": [
      "#Compute absolute magnitude\n",
      "\n",
      "#M_r^o(g-i) = -5.06+14.32x-12.97x^2+6.127x^3-1.267x^4+0.0967x^5 where x=(g-i) (Eq. A7 in ApJ, 684,287)\n",
      "M_ro = -5.06 + 14.32*g_i - 12.97*(g_i**2) + 6.127*(g_i**3) - 1.267*(g_i**4) + 0.0967*(g_i**5)\n",
      "\n",
      "#[Fe/H]=-13.13+14.09x+28.04y-5.51xy-5.90x^2-58.68y^2+9.14x^2*y-20.61x*y^2+58.20y^3 where x=(u-g) and y=(g-r) (Equation given in assignment, originally from ApJ,716,1)\n",
      "FeH = -13.13 + 14.09*u_g + 28.04*g_r - 5.51*u_g*g_r - 5.90*(u_g**2) - 58.68*(g_r**2) + 9.14*(u_g**2)*g_r - 20.61*u_g*(g_r**2) + 58.20*(g_r**3)\n",
      "#This expression is only valid for g-r<0.6; for redder stars use [Fe/H]=-0.6\n",
      "FeH_mask = (g_r >= 0.6) #Create mask for stars with g-r>=0.6\n",
      "FeH[FeH_mask] = -0.6\n",
      "\n",
      "#delta M_r([Fe/H])=4.50-1.11[Fe/H]-0.18[Fe/H]^2 (Eq. A2 in ApJ, 684,287)\n",
      "dM_r = 4.50 - 1.11*FeH - 0.18*(FeH**2)\n",
      "\n",
      "#M_r(g-i,[Fe/H]) = M_r^o(g-i) + delta M_r([Fe/H]) (Eq. A3 in ApJ, 684,287)\n",
      "M_r = M_ro + dM_r"
     ],
     "language": "python",
     "metadata": {},
     "outputs": [],
     "prompt_number": 211
    },
    {
     "cell_type": "code",
     "collapsed": false,
     "input": [
      "#Z~D since b>80 degrees\n",
      "#r-M_r=5*log(D/(10 pc)) ---> D=Z=(10 pc)*10^(0.2*(r-M_r))\n",
      "Z = 10 * 10**(0.2*(r-M_r))"
     ],
     "language": "python",
     "metadata": {},
     "outputs": [],
     "prompt_number": 212
    },
    {
     "cell_type": "heading",
     "level": 3,
     "metadata": {},
     "source": [
      "#1"
     ]
    },
    {
     "cell_type": "code",
     "collapsed": false,
     "input": [
      "#Consider stars with 0.2<g-r<0.4\n",
      "mask1 = (g_r > 0.2) & (g_r < 0.4)\n",
      "g_r_1 = g_r[mask1]\n",
      "Z_1 = Z[mask1]\n",
      "#Convert from pc to kpc\n",
      "Z_1 = Z_1/1000.\n",
      "#Bin data for histogram\n",
      "Z_counts, edges = np.histogram(Z_1,bins=100)\n",
      "#Approximate a volume for each bin: delta_omega*((r2^3-r1^3)/3)\n",
      "#Find bin centers\n",
      "vol = [0] * len(Z_counts)\n",
      "cent = [0] * len(Z_counts)\n",
      "for i in range(0,len(vol)):\n",
      "    vol[i] = (314*(np.pi/180)**2)*((edges[i+1]**3-edges[i]**3)/3)\n",
      "    cent[i] = (edges[i+1]+edges[i])/2\n",
      "#Find number density for each bin\n",
      "rho = Z_counts/vol"
     ],
     "language": "python",
     "metadata": {},
     "outputs": [],
     "prompt_number": 213
    },
    {
     "cell_type": "code",
     "collapsed": false,
     "input": [
      "#Plot data\n",
      "%matplotlib inline\n",
      "\n",
      "fig = plt.figure()\n",
      "ax = fig.add_subplot(111)\n",
      "plt.yscale('log')\n",
      "ax.set_xlabel(r'$Z (kpc)$')\n",
      "ax.set_ylabel(r'$ln(\\rho)$')\n",
      "ax.set_title(r'$0.2<g-r<0.4$ stars in SDSS')\n",
      "#ax.hist(Z_1, 100)\n",
      "ax.plot(cent,rho,linestyle='steps-mid')"
     ],
     "language": "python",
     "metadata": {},
     "outputs": [
      {
       "metadata": {},
       "output_type": "pyout",
       "prompt_number": 214,
       "text": [
        "[<matplotlib.lines.Line2D at 0x1382845d0>]"
       ]
      },
      {
       "metadata": {},
       "output_type": "display_data",
       "png": "[encoded data removed]",
       "text": [
        "<matplotlib.figure.Figure at 0x1380c2b10>"
       ]
      }
     ],
     "prompt_number": 214
    },
    {
     "cell_type": "markdown",
     "metadata": {},
     "source": [
      "I would believe the results out to approximately Z=30 kpc, since beyond this distance the faintest stars are undetected, the fractional error becomes larger, and the data is just generally rattier.\n",
      "Also, bluer stars can be detected at larger distances than redder stars, so at the larger distances in the sample the data will be biased.\n",
      "I tried to confirm this by playing around with and fitting several different lines to the part of the data I believed to be the closest halo stars, using Juric et al. 2008 as a reference/starting point. Of course, to conclude anything from this you would need to fit models more rigorously than I have. For more analysis, one could compare the results to a model of expected number density over varying distances and determine the distance at which this correlation deviates from the data."
     ]
    },
    {
     "cell_type": "heading",
     "level": 3,
     "metadata": {},
     "source": [
      "#2"
     ]
    },
    {
     "cell_type": "code",
     "collapsed": false,
     "input": [
      "#Do the same for stars with different g-r colors\n",
      "#Create masks\n",
      "mask46 = (g_r > 0.4) & (g_r < 0.6)\n",
      "mask68 = (g_r > 0.6) & (g_r < 0.8)\n",
      "mask81 = (g_r > 0.8) & (g_r < 1.0)\n",
      "Z_46 = Z[mask46]\n",
      "Z_68 = Z[mask68]\n",
      "Z_81 = Z[mask81]\n",
      "#Convert from pc to kpc\n",
      "Z_46 = Z_46/1000.\n",
      "Z_68 = Z_68/1000.\n",
      "Z_81 = Z_81/1000.\n",
      "#Bin data for histogram\n",
      "Z_46_counts, edges_46 = np.histogram(Z_46,bins=100)\n",
      "Z_68_counts, edges_68 = np.histogram(Z_68,bins=100)\n",
      "Z_81_counts, edges_81 = np.histogram(Z_81,bins=100)\n",
      "#Approximate a volume for each bin: delta_omega*((r2^3-r1^3)/3)\n",
      "#Find bin centers\n",
      "vol_46 = [0] * len(Z_46_counts)\n",
      "cent_46 = [0] * len(Z_46_counts)\n",
      "vol_68 = [0] * len(Z_68_counts)\n",
      "cent_68 = [0] * len(Z_68_counts)\n",
      "vol_81 = [0] * len(Z_81_counts)\n",
      "cent_81 = [0] * len(Z_81_counts)\n",
      "for i in range(0,len(vol)):\n",
      "    vol_46[i] = (314*(np.pi/180)**2)*((edges_46[i+1]**3-edges_46[i]**3)/3)\n",
      "    cent_46[i] = (edges_46[i+1]+edges_46[i])/2\n",
      "    vol_68[i] = (314*(np.pi/180)**2)*((edges_68[i+1]**3-edges_68[i]**3)/3)\n",
      "    cent_68[i] = (edges_68[i+1]+edges_68[i])/2\n",
      "    vol_81[i] = (314*(np.pi/180)**2)*((edges_81[i+1]**3-edges_81[i]**3)/3)\n",
      "    cent_81[i] = (edges_81[i+1]+edges_81[i])/2\n",
      "#Find number density for each bin\n",
      "rho_46 = Z_46_counts/vol_46\n",
      "rho_68 = Z_68_counts/vol_68\n",
      "rho_81 = Z_81_counts/vol_81"
     ],
     "language": "python",
     "metadata": {},
     "outputs": [],
     "prompt_number": 215
    },
    {
     "cell_type": "code",
     "collapsed": false,
     "input": [
      "#Plot data\n",
      "%matplotlib inline\n",
      "\n",
      "fig = plt.figure()\n",
      "ax = fig.add_subplot(111)\n",
      "plt.yscale('log')\n",
      "ax.set_xlabel(r'$Z (kpc)$')\n",
      "ax.set_ylabel(r'$ln(\\rho)$')\n",
      "ax.set_title(r'Stars in SDSS')\n",
      "#ax.hist(Z_1, 100)\n",
      "#ax.set_xlim(0,40)\n",
      "ax.plot(cent,rho,linestyle='steps-mid',label=r'$0.2<g-r<0.4$')\n",
      "ax.plot(cent_46,rho_46,linestyle='steps-mid',label=r'$0.4<g-r<0.6$')\n",
      "ax.plot(cent_68,rho_68,linestyle='steps-mid',label=r'$0.6<g-r<0.8$')\n",
      "ax.plot(cent_81,rho_81,linestyle='steps-mid',label=r'$0.8<g-r<1.0$')\n",
      "plt.legend()"
     ],
     "language": "python",
     "metadata": {},
     "outputs": [
      {
       "metadata": {},
       "output_type": "pyout",
       "prompt_number": 216,
       "text": [
        "<matplotlib.legend.Legend at 0x138901c10>"
       ]
      },
      {
       "metadata": {},
       "output_type": "display_data",
       "png": "[encoded data removed]",
       "text": [
        "<matplotlib.figure.Figure at 0x1482da150>"
       ]
      }
     ],
     "prompt_number": 216
    },
    {
     "cell_type": "markdown",
     "metadata": {},
     "source": [
      "We expect to see larger systematic errors for 0.8<g-r<1.0 than for the adjacent bin with 0.4<g-r<0.6 because the redder stars are intrinsically fainter and harder to detect at larger distances. So we will see an artificial drop in number density at smaller distances for stars with 0.8<g-r<1.0."
     ]
    },
    {
     "cell_type": "heading",
     "level": 3,
     "metadata": {},
     "source": [
      "#3"
     ]
    },
    {
     "cell_type": "code",
     "collapsed": false,
     "input": [
      "#Consider stars with 0.2<g-r<0.4\n",
      "#Separate into high and low metallicity groups\n",
      "mask3 = (g_r > 0.2) & (g_r < 0.4)\n",
      "Z_3 = Z[mask3]\n",
      "FeH_3 = FeH[mask3]\n",
      "maskhigh = (FeH_3 > -1.0)\n",
      "masklow = (FeH_3 < -1.0)\n",
      "#Convert distances from pc to kpc\n",
      "Z_3 = Z_3/1000.\n",
      "#Bin data for histogram\n",
      "Z_counts_high, edges_high = np.histogram(Z_3[maskhigh],bins=100)\n",
      "Z_counts_low, edges_low = np.histogram(Z_3[masklow],bins=100)\n",
      "#Approximate a volume for each bin: delta_omega*((r2^3-r1^3)/3)\n",
      "#Find bin centers\n",
      "vol_high = [0] * len(Z_counts_high)\n",
      "cent_high = [0] * len(Z_counts_high)\n",
      "vol_low = [0] * len(Z_counts_low)\n",
      "cent_low = [0] * len(Z_counts_low)\n",
      "for i in range(0,len(vol)):\n",
      "    vol_high[i] = (314*(np.pi/180)**2)*((edges_high[i+1]**3-edges_high[i]**3)/3)\n",
      "    cent_high[i] = (edges_high[i+1]+edges_high[i])/2\n",
      "    vol_low[i] = (314*(np.pi/180)**2)*((edges_low[i+1]**3-edges_low[i]**3)/3)\n",
      "    cent_low[i] = (edges_low[i+1]+edges_low[i])/2\n",
      "#Find number density for each bin\n",
      "rho_high = Z_counts_high/vol_high\n",
      "rho_low = Z_counts_low/vol_low"
     ],
     "language": "python",
     "metadata": {},
     "outputs": [],
     "prompt_number": 217
    },
    {
     "cell_type": "code",
     "collapsed": false,
     "input": [
      "#Plot data\n",
      "%matplotlib inline\n",
      "\n",
      "fig = plt.figure()\n",
      "ax = fig.add_subplot(111)\n",
      "plt.yscale('log')\n",
      "ax.set_xlabel(r'$Z (kpc)$')\n",
      "ax.set_ylabel(r'$ln(\\rho)$')\n",
      "ax.set_title(r'$0.2<g-r<0.4$ stars in SDSS')\n",
      "#ax.hist(Z_1, 100)\n",
      "ax.set_xlim(0,40)\n",
      "ax.plot(cent_high,rho_high,color='red',linestyle='steps-mid',label=r'$[Fe/H]>-1.0$')\n",
      "ax.plot(cent_low,rho_low,linestyle='steps-mid',label=r'$[Fe/H]<-1.0$')\n",
      "plt.legend()"
     ],
     "language": "python",
     "metadata": {},
     "outputs": [
      {
       "metadata": {},
       "output_type": "pyout",
       "prompt_number": 218,
       "text": [
        "<matplotlib.legend.Legend at 0x1389f8e90>"
       ]
      },
      {
       "metadata": {},
       "output_type": "display_data",
       "png": "[encoded data removed]",
       "text": [
        "<matplotlib.figure.Figure at 0x1388604d0>"
       ]
      }
     ],
     "prompt_number": 218
    },
    {
     "cell_type": "markdown",
     "metadata": {},
     "source": [
      "For this subset of the sample, it appears that there are more high-metallicity stars within a few kpc of us. This makes sense, since these are likely to be younger stars that have formed in the thin disk of the Milky Way. Farther out, there are more old, metal-poor stars than young ones. I believe that incompleteness may be at least in part the cause of the low-metallicity line sloping downward as steeply as it does at large distances."
     ]
    },
    {
     "cell_type": "heading",
     "level": 3,
     "metadata": {},
     "source": [
      "#4"
     ]
    },
    {
     "cell_type": "code",
     "collapsed": false,
     "input": [
      "#Consider stars with 0.2<g-r<0.4\n",
      "#Separate into high and low metallicity groups\n",
      "r4 = r[mask3] #mask3 is the color mask for 0.2<(g-r)<0.4 from #3\n",
      "rhigh = r4[maskhigh]\n",
      "rlow = r4[masklow]\n",
      "#Bin data for histogram\n",
      "r_counts_high, r_edges_high = np.histogram(rhigh,bins=70) #70 bins gives bin size of about 0.1 mag, since range of r is 14.0<r<21.0 for both groups\n",
      "r_counts_low, r_edges_low = np.histogram(rlow,bins=70)\n",
      "#Find bin centers\n",
      "rcent_high = [0] * len(r_counts_high)\n",
      "rcent_low = [0] * len(r_counts_low)\n",
      "for i in range(0,len(rcent_high)):\n",
      "    rcent_high[i] = (r_edges_high[i+1]+r_edges_high[i])/2\n",
      "    rcent_low[i] = (r_edges_low[i+1]+r_edges_low[i])/2"
     ],
     "language": "python",
     "metadata": {},
     "outputs": [],
     "prompt_number": 219
    },
    {
     "cell_type": "code",
     "collapsed": false,
     "input": [
      "#Plot data\n",
      "%matplotlib inline\n",
      "\n",
      "fig = plt.figure()\n",
      "ax = fig.add_subplot(111)\n",
      "#plt.yscale('log')\n",
      "ax.set_xlabel(r'$r$ $(mag)$')\n",
      "ax.set_ylabel(r'$N$')\n",
      "ax.set_title(r'$0.2<g-r<0.4$ stars in SDSS')\n",
      "#ax.set_xlim(0,40)\n",
      "ax.plot(rcent_high,r_counts_high,color='red',linestyle='steps-mid',label=r'$[Fe/H]>-1.0$')\n",
      "ax.plot(rcent_low,r_counts_low,linestyle='steps-mid',label=r'$[Fe/H]<-1.0$')\n",
      "plt.legend(bbox_to_anchor=(0.4, 1))"
     ],
     "language": "python",
     "metadata": {},
     "outputs": [
      {
       "metadata": {},
       "output_type": "pyout",
       "prompt_number": 220,
       "text": [
        "<matplotlib.legend.Legend at 0x138b90bd0>"
       ]
      },
      {
       "metadata": {},
       "output_type": "display_data",
       "png": "[encoded data removed]",
       "text": [
        "<matplotlib.figure.Figure at 0x13800f350>"
       ]
      }
     ],
     "prompt_number": 220
    },
    {
     "cell_type": "markdown",
     "metadata": {},
     "source": [
      "I believe the dip in number of low-metallicity stars at fainter magnitudes is likely due to incompleteness. If you can ignore this part of the curve where numbers decrease, then the relation for low-metallicity stars is roughly a power law (if not, then I might call the curve vaguely Gaussian). The relation for high-metallicity stars is bi-modal."
     ]
    },
    {
     "cell_type": "heading",
     "level": 3,
     "metadata": {},
     "source": [
      "#5"
     ]
    },
    {
     "cell_type": "code",
     "collapsed": false,
     "input": [
      "#Find corresponding r at 100 kpc\n",
      "fr = 5*np.log10(100000/10)+M_r.mean()\n",
      "print fr"
     ],
     "language": "python",
     "metadata": {},
     "outputs": [
      {
       "output_type": "stream",
       "stream": "stdout",
       "text": [
        "27.4680966786\n"
       ]
      }
     ],
     "prompt_number": 221
    },
    {
     "cell_type": "markdown",
     "metadata": {},
     "source": [
      "I estimate that you would need an r band limit of approximately 27.5 to be able to map the profile out to 100 kpc reasonably well."
     ]
    },
    {
     "cell_type": "code",
     "collapsed": false,
     "input": [
      "#What is the density of stars with 0.2<g-r<0.4 just outside the disk?\n",
      "#Use data from #1\n",
      "#From Juric et al. 2008, assume rho(R)=c*R^-3\n",
      "print cent[4] #The fourth bin is about 5 kpc out\n",
      "rhon = (rho[4])*(95/cent[4])**(-3) #Find rho for 95 kpc\n",
      "#Volume between 90-100 kpc in 1 deg^2\n",
      "V = (1*(np.pi/180)**2)*((100**3-90**3)/3)\n",
      "print rhon*V"
     ],
     "language": "python",
     "metadata": {},
     "outputs": [
      {
       "output_type": "stream",
       "stream": "stdout",
       "text": [
        "5.00309503494\n",
        "10.9910677553\n"
       ]
      }
     ],
     "prompt_number": 222
    },
    {
     "cell_type": "markdown",
     "metadata": {},
     "source": [
      "Based on this simplified calculation, I'd expect to see about 11 stars at a distance between 90-100 kpc"
     ]
    },
    {
     "cell_type": "code",
     "collapsed": false,
     "input": [],
     "language": "python",
     "metadata": {},
     "outputs": [],
     "prompt_number": 222
    }
   ],
   "metadata": {}
  }
 ]
}