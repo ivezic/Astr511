{
 "metadata": {
  "name": "",
  "signature": "sha256:105f62c953bab8b27dfd21e57c69fb42f392ac668bfa288562d113f88a210ab5"
 },
 "nbformat": 3,
 "nbformat_minor": 0,
 "worksheets": [
  {
   "cells": [
    {
     "cell_type": "heading",
     "level": 1,
     "metadata": {},
     "source": [
      "Term Project # 1"
     ]
    },
    {
     "cell_type": "markdown",
     "metadata": {},
     "source": [
      "Author: Jacob Lustig-Yaeger\n",
      "\n",
      "In this project we will be analyzing the data file [Astr511HW1data.dat](http://www.astro.washington.edu/users/ivezic/Teaching/Astr511/Astr511HW1data.dat.gz) which contiains SDSS measurements for about 600,000 stars with b > 80 (i.e. within 10 from the north galactic pole) and 14 < r < 21. The data are listed as one line per star, with each line containing the following quantities:  \n",
      ">\u2022 **ra dec**: right ascension and declination (J2000.0) in decimal degrees  \n",
      "\u2022 **run**: SDSS observing night identifier  \n",
      "\u2022 **Ar**: the value of the r band ISM extinction used to correct photometry (adopted from\n",
      "the SFD maps; for bands other than r standard SDSS coefficients are used)  \n",
      "\u2022 **u g r i z**: SDSS photometry (corrected for the ISM extinction)  \n",
      "\u2022 **uErr gErr rErr iErr zErr**: photometric errors  \n",
      "\u2022 **pmL pmB**: proper motion vector components in the longitudinal and latitudinal directions (mas/yr); set to 999.99 when no measurement is available  \n",
      "\u2022 **pmErr**: mean proper motion error (mas/yr); set to 999.99 when no measurement is\n",
      "available  "
     ]
    },
    {
     "cell_type": "code",
     "collapsed": false,
     "input": [
      "%matplotlib inline\n",
      "import numpy as np\n",
      "import scipy as sp\n",
      "import scipy.optimize\n",
      "import matplotlib as mpl\n",
      "import matplotlib.pyplot as plt\n",
      "from matplotlib import gridspec\n",
      "mpl.rcParams['font.size'] = 16.0"
     ],
     "language": "python",
     "metadata": {},
     "outputs": [],
     "prompt_number": 191
    },
    {
     "cell_type": "code",
     "collapsed": false,
     "input": [
      "# Let's read-in the SDSS data...\n",
      "fpath = 'Astr511HW1data.dat'\n",
      "data = np.genfromtxt(fpath, skiprows=2)"
     ],
     "language": "python",
     "metadata": {},
     "outputs": [],
     "prompt_number": 192
    },
    {
     "cell_type": "code",
     "collapsed": false,
     "input": [
      "# ...and assign the columns to appropriately named arrays  \n",
      "ra = data[:,0]       \n",
      "dec = data[:,1]  \n",
      "run = data[:,2]    \n",
      "Ar = data[:,3]     \n",
      "u = data[:,4]    \n",
      "g = data[:,5]     \n",
      "r = data[:,6]     \n",
      "i = data[:,7]     \n",
      "z = data[:,8] \n",
      "uErr = data[:,9] \n",
      "gErr = data[:,10] \n",
      "rErr = data[:,11] \n",
      "iErr = data[:,12] \n",
      "zErr = data[:,13]   \n",
      "pmL  = data[:,14]  \n",
      "pmB  = data[:,15]  \n",
      "pmErr = data[:,16]"
     ],
     "language": "python",
     "metadata": {},
     "outputs": [],
     "prompt_number": 193
    },
    {
     "cell_type": "heading",
     "level": 2,
     "metadata": {},
     "source": [
      "Preamble"
     ]
    },
    {
     "cell_type": "markdown",
     "metadata": {},
     "source": [
      "To begin, we'll need some info from Ivezic et al. 2008:  \n",
      ">The data shown in the bottom left panel of Figure 20 strongly suggest a nonlinear relationship (without the extended metallicity baseline thanks to the VandenBerg & Clem [2003] data, the five SDSS clusters would imply a linear relationship). The best-fit parabola is (A2) \n",
      "$$ \\Delta M_r ([Fe / H]) = 4.50 - 1.11[Fe / H] - 0.18[Fe / H]^2  $$  \n",
      "where $\\Delta M_r$ is defined by (A3)   \n",
      "$$ M_r(g-i, [Fe/H]) = M_r^0(g-i) + \\Delta M_r ([Fe / H]). $$  \n",
      "The rms scatter around the best-fit relation is 0.05 mag for the 11 clusters used in the fit, with the maximum deviation of 0.08 mag.  \n",
      "  \n",
      "And also this  \n",
      ">Given different expressions for three color ranges (eqs. [A1], [A4], and [A5]) and the above age correction, for convenience we fit a fifth-order polynomial to a vector of Mr values generated using the appropriate expressions for $0.2 < g-i < 4.0$, with a step size of 0.01 mag. Our final expression (A7)   \n",
      "$$ M_r^0(g-i) = -5.06 + 14.32x - 12.97x^2 +6.127x^3 - 1.267x^4 + 0.0967x^5$$  \n",
      "where $x = (g-i)$, reproduces individual $M_r$ values with an rms of 0.05 mag and maximum deviation below 0.1 mag.  \n",
      "\n",
      "To compute metallicity, we'll use an expression from Bond et al. 2010:  \n",
      ">$$ [Fe/H] = A + Bx + Cy + Dxy + Ex^2 + F y^2 + Gx^2y + Hxy^2 + Ix^3 + Jy^3 $$  \n",
      "\n",
      "with $x = (u-g)$ and $y = (g-r)$, and the best-fit coefficients (A\u2013J) = (\u221213.13, 14.09, 28.04, \u22125.51, \u22125.90, \u221258.68, 9.14, \u221220.61, 0.0, 58.20). This expression is valid only for (g \u2212 r) < 0.6; for redder stars use [Fe/H] = \u22120.6."
     ]
    },
    {
     "cell_type": "code",
     "collapsed": false,
     "input": [
      "# Here we will define some useful functions\n",
      "\n",
      "def compute_metallicity(g_r,u_g):\n",
      "    FeH = np.zeros(u_g.shape)\n",
      "    coeffs = [-13.13, 14.09, 28.04, -5.51, -5.90, -58.68, \\\n",
      "              9.14, -20.61, 0.0, 58.20] \n",
      "    for index in range(len(g_r)):\n",
      "        if g_r[index] < 0.6:\n",
      "            x = u_g[index]\n",
      "            y = g_r[index]\n",
      "            A,B,C,D,E,F,G,H,I,J = coeffs\n",
      "            FeH[index] = A + B*x + C*y + D*x*y + E*x**2 + F*y**2 \\\n",
      "                + G*(x**2)*y + H*x*y**2 + I*x**3 + J*y**3\n",
      "        else: FeH[index] = -0.6\n",
      "    \n",
      "    return FeH\n",
      "\n",
      "def compute_Mr(g_i,FeH):\n",
      "    x = g_i\n",
      "    Mr = -5.06 + 14.32*x - 12.97*x**2 +6.127*x**3 - 1.267*x**4 + 0.0967*x**5 \\\n",
      "        + 4.50 - 1.11*FeH - 0.18*FeH**2\n",
      "    return Mr\n",
      "\n",
      "def compute_D(r,Mr):\n",
      "    return 10.0**(((r-Mr)/5.0)+1) # in parsecs\n",
      "\n",
      "def calc_r(M):\n",
      "    return M + 5.0*np.log10(10000.)"
     ],
     "language": "python",
     "metadata": {},
     "outputs": [],
     "prompt_number": 221
    },
    {
     "cell_type": "code",
     "collapsed": false,
     "input": [
      "g_r = g-r\n",
      "u_g = u-g\n",
      "g_i = g-i\n",
      "\n",
      "# Compute the metallicity\n",
      "FeH = compute_metallicity(g_r,u_g)\n",
      "# Use g-i and metallicity to calculate the r-band absolute mag\n",
      "Mr = compute_Mr(g_i, FeH)\n",
      "# Use r-band apparant and absolute mags to get the distance\n",
      "D = Z = compute_D(r,Mr)"
     ],
     "language": "python",
     "metadata": {},
     "outputs": [],
     "prompt_number": 195
    },
    {
     "cell_type": "heading",
     "level": 2,
     "metadata": {},
     "source": [
      "Problem 1.)"
     ]
    },
    {
     "cell_type": "markdown",
     "metadata": {},
     "source": [
      ">For stars with $0.2 < g - r < 0.4$, plot $ln(\\rho)$ vs. $Z$, where $\\rho$ is the stellar number\n",
      "density in a given bin (e.g. look at Figs. 5 and 15 in Juri\u00b4c et al. 2008, ApJ, 673, 864\n",
      "for similar examples). You can approximate $\\rho (Z) = N(Z)/V(Z)$, where $N(Z)$ is the\n",
      "number of stars in a given bin, and $V(Z)$ is the bin volume (note that the solid angle\n",
      "is $\\Delta \\Omega \u223c 314\u02da$). What is the Z range where you believe the results, and why?  \n",
      "\n",
      "In general, the total volume between two concentric spherical shells of radius $r_1$ and $r_2$ is given by  \n",
      "$$ V_{tot} = \\int_0^{2 \\pi} \\int_0^{\\pi} \\int_{r_1}^{r_2} r^{2} sin(\\theta) dr d \\theta d \\phi   $$  \n",
      "This can be written in terms of the solid angle $d \\Omega$ as  \n",
      "$$ V_{tot} = \\int_{r_1}^{r_2} r^{2} dr \\int d \\Omega . $$  \n",
      "In this form its easier to see how to compute the volume woth a given solid angle $\\Delta \\Omega$. Carrying out the integration in r we get,  \n",
      "$$ V = \\Delta \\Omega \\times \\left ( \\frac{r_2^3 - r_1^3}{3} \\right ) $$"
     ]
    },
    {
     "cell_type": "code",
     "collapsed": false,
     "input": [
      "# This function takes an array of stars and bins them by distance and computes the volume of each bin\n",
      "def volume_bins(array, bins=100):\n",
      "    number, edges = np.histogram(array, bins=100)\n",
      "    midbin = (edges[1:] + edges[:-1])/2.0\n",
      "    solid_angle = (314./180.)*np.pi # in radians\n",
      "    volume = (solid_angle)*((edges[1:]**3.0 - edges[:-1]**3.0)/np.power(1000.,3.))/3.0\n",
      "    return volume, number, midbin"
     ],
     "language": "python",
     "metadata": {},
     "outputs": [],
     "prompt_number": 196
    },
    {
     "cell_type": "code",
     "collapsed": false,
     "input": [
      "# Select only the stars which satisfy the specified conditions on g-r\n",
      "mask1 = np.logical_and(0.2 < g_r, g_r < 0.4)\n",
      "Zmask = Z[mask1]\n",
      "volume, N, midbin =  volume_bins(Zmask, bins=100)\n",
      "dist = midbin/1000. #kpc\n",
      "\n",
      "#  Plot the results\n",
      "fig = plt.figure(figsize=(10,7))\n",
      "gs = gridspec.GridSpec(1,1)\n",
      "ax0 = plt.subplot(gs[0])\n",
      "ax0.plot(dist, np.log(N/volume), linestyle='steps-mid', linewidth=2.0,\\\n",
      "         label = 'SDSS data')\n",
      "ax0.set_xlabel('$Z$ [kpc]')\n",
      "ax0.set_ylabel(r'$ln(\\rho$)')\n",
      "ax0.set_title('$0.2 < g - r < 0.4$')\n",
      "\n",
      "# Fit the curve in halo region\n",
      "zrange = np.logical_and(dist > 4, dist < 40)\n",
      "p = np.polyfit(dist[zrange],np.log(N[zrange]/volume[zrange]), deg=1)\n",
      "yfit = p[0]*dist[zrange]+p[1]\n",
      "ax0.plot(dist[zrange],yfit, color='r', lw=2.0, label='fit')\n",
      "\n",
      "ax0.axvline(x = 4.0, color='g', label='approx. edge of disk')\n",
      "\n",
      "# Calculte distance at which faint stars are running up against the SDSS\n",
      "# r-band limit of r = 21 mag, using a median absolute mag for stars in\n",
      "# this region.\n",
      "r_limit = 21\n",
      "Mrmask1a = Mr[mask1]\n",
      "Mrmask1b = Mrmask1a[zrange]\n",
      "Mr_med = np.median(Mrmask1b)\n",
      "Z_believe = compute_D(r_limit, Mr_med)/1000. # in kpc\n",
      "print 'Believable Z = '+str(int(Z_believe))+'kpc'\n",
      "ax0.axvline(x = Z_believe , color='orange', ls='--', label='believable limit')\n",
      "\n",
      "ax0.legend(loc=1)"
     ],
     "language": "python",
     "metadata": {},
     "outputs": [
      {
       "output_type": "stream",
       "stream": "stdout",
       "text": [
        "Believable Z = 17kpc\n"
       ]
      },
      {
       "metadata": {},
       "output_type": "pyout",
       "prompt_number": 311,
       "text": [
        "<matplotlib.legend.Legend at 0x7f18c485fdd0>"
       ]
      },
      {
       "metadata": {},
       "output_type": "display_data",
       "png": "[encoded data removed]",
       "text": [
        "<matplotlib.figure.Figure at 0x7f18c64d7510>"
       ]
      }
     ],
     "prompt_number": 311
    },
    {
     "cell_type": "markdown",
     "metadata": {},
     "source": [
      "The above plot shows ln($\\rho$) vs. Z for stars with $0.2 < g - r < 0.4$ (blue curve). The vertical green line shows the approximate edge of the galactic disk.\n",
      "\n",
      "In order to assess the distance (Z) where ln($\\rho$) vs. Z is believable we calculte the distance at which stars with the median r-band absolute magnitude in the halo are running up against the SDSS faint r-band apparent magnitude limit of r = 21 mag. This gives a distance of about 17 kpc, after which we no longer have the completeness to believe these results. "
     ]
    },
    {
     "cell_type": "heading",
     "level": 2,
     "metadata": {},
     "source": [
      "Problem 2.)"
     ]
    },
    {
     "cell_type": "markdown",
     "metadata": {},
     "source": [
      ">Add $ln( \\rho )$ vs. $Z$ for stars with $0.4 < g - r < 0.6$, $0.6 < g - r < 0.8$, and\n",
      "$0.8 < g - r < 1.0$ (you can rescale all curves to the same value at some fiducial Z, or\n",
      "leave them as they are). Discuss the differences compared to the $0.2 < g - r < 0.4$\n",
      "subsample. Why do we expect larger systematic errors for $0.8 < g - r < 1.0$ than for\n",
      "the adjacent bin with $0.4 < g - r < 0.6$?"
     ]
    },
    {
     "cell_type": "code",
     "collapsed": false,
     "input": [
      "mask2 = np.logical_and(0.4 < g_r, g_r < 0.6)\n",
      "mask3 = np.logical_and(0.6 < g_r, g_r < 0.8)\n",
      "mask4 = np.logical_and(0.8 < g_r, g_r < 1.0)\n",
      "\n",
      "Zmask1 = Zmask\n",
      "Zmask2 = Z[mask2]\n",
      "Zmask3 = Z[mask3]\n",
      "Zmask4 = Z[mask4]\n",
      "\n",
      "#  Plot the results\n",
      "fig = plt.figure(figsize=(10,7))\n",
      "gs = gridspec.GridSpec(1,1)\n",
      "ax0 = plt.subplot(gs[0])\n",
      "\n",
      "volume, N, midbin =  volume_bins(Zmask1, bins=100)\n",
      "ax0.plot(midbin/1000., np.log(N/volume), linestyle='steps-mid', lw=2.0, label='$0.2 < g - r < 0.4$')\n",
      "volume, N, midbin =  volume_bins(Zmask2, bins=100)\n",
      "ax0.plot(midbin/1000., np.log(N/volume), linestyle='steps-mid', lw=2.0, label='$0.4 < g - r < 0.6$')\n",
      "volume, N, midbin =  volume_bins(Zmask3, bins=100)\n",
      "ax0.plot(midbin/1000., np.log(N/volume), linestyle='steps-mid', lw=2.0, label='$0.6 < g - r < 0.8$')\n",
      "volume, N, midbin =  volume_bins(Zmask4, bins=100)\n",
      "ax0.plot(midbin/1000., np.log(N/volume), linestyle='steps-mid', lw=2.0, label='$0.8 < g - r < 1.0$')\n",
      "\n",
      "ax0.legend()\n",
      "ax0.set_xlabel(r'$Z$ [kpc]')\n",
      "ax0.set_ylabel(r'$ln(\\rho$)')"
     ],
     "language": "python",
     "metadata": {},
     "outputs": [
      {
       "metadata": {},
       "output_type": "pyout",
       "prompt_number": 198,
       "text": [
        "<matplotlib.text.Text at 0x7f18a231d310>"
       ]
      },
      {
       "metadata": {},
       "output_type": "display_data",
       "png": "[encoded data removed]",
       "text": [
        "<matplotlib.figure.Figure at 0x7f18a235bbd0>"
       ]
      }
     ],
     "prompt_number": 198
    },
    {
     "cell_type": "markdown",
     "metadata": {},
     "source": [
      "We expect larger systematic errors for $0.8 < g - r < 1.0$ than for the adjacent bin with $0.4 < g - r < 0.6$ because its harder to see redder stars farther out as these stars are dimmer in the r-band and are running into the 21st magnitude SDSS limit at a shorter distance from us."
     ]
    },
    {
     "cell_type": "heading",
     "level": 2,
     "metadata": {},
     "source": [
      "Problem 3.)"
     ]
    },
    {
     "cell_type": "markdown",
     "metadata": {},
     "source": [
      ">For subsample with $0.2 < g - r < 0.4$, separate stars into low-metallicity sample, $[Fe/H] < -1.0$, and high-metallicity sample, $[Fe/H] > -1.0$. Compare their $ln( \\rho )$ vs. $Z$ curves. What do you conclude?"
     ]
    },
    {
     "cell_type": "code",
     "collapsed": false,
     "input": [
      "mask1_low = np.logical_and(mask1, FeH < -1.0)\n",
      "mask1_high = np.logical_and(mask1, FeH > -1.0)\n",
      "\n",
      "Zmask1_lowFeH = Z[mask1_low]\n",
      "Zmask1_highFeH = Z[mask1_high]\n",
      "\n",
      "#  Plot the results\n",
      "fig = plt.figure(figsize=(10,7))\n",
      "gs = gridspec.GridSpec(1,1)\n",
      "ax0 = plt.subplot(gs[0])\n",
      "\n",
      "volume, N, midbin =  volume_bins(Zmask1_lowFeH, bins=100)\n",
      "ax0.plot(midbin/1000., np.log(N/volume), linestyle='steps-mid', lw=2.0, label='$[Fe/H] < -1.0$')\n",
      "volume, N, midbin =  volume_bins(Zmask1_highFeH, bins=100)\n",
      "ax0.plot(midbin/1000., np.log(N/volume), linestyle='steps-mid', lw=2.0, label='$[Fe/H] > -1.0$')\n",
      "\n",
      "ax0.legend()\n",
      "ax0.set_xlabel(r'$Z$ [kpc]')\n",
      "ax0.set_ylabel(r'$ln(\\rho$)')\n",
      "ax0.set_title('$0.2 < g - r < 0.4$')"
     ],
     "language": "python",
     "metadata": {},
     "outputs": [
      {
       "metadata": {},
       "output_type": "pyout",
       "prompt_number": 199,
       "text": [
        "<matplotlib.text.Text at 0x7f18c5f14e50>"
       ]
      },
      {
       "metadata": {},
       "output_type": "display_data",
       "png": "[encoded data removed]",
       "text": [
        "<matplotlib.figure.Figure at 0x7f18c5c89810>"
       ]
      }
     ],
     "prompt_number": 199
    },
    {
     "cell_type": "markdown",
     "metadata": {},
     "source": [
      "High metallicity in the disk, drops sharply out of disk. Since metallicities are derived from colors they contain carry over selection effects and biases discussed previously for why there are fewer red stars in the halo. "
     ]
    },
    {
     "cell_type": "heading",
     "level": 2,
     "metadata": {},
     "source": [
      "Problem 4.)"
     ]
    },
    {
     "cell_type": "markdown",
     "metadata": {},
     "source": [
      ">For these low-metallicity and high-metallicity samples, plot and compare their\n",
      "differential r-band magnitude distributions (i.e. the number of sources per unit\n",
      "magnitude, in small, say 0.1 mag wide, r bins). What do you conclude? How would\n",
      "you numerically describe these curves (i.e. what kind of functional form for the fitting\n",
      "functions would you choose)?"
     ]
    },
    {
     "cell_type": "code",
     "collapsed": false,
     "input": [
      "r_lowFeH = r[mask1_low]\n",
      "r_highFeH = r[mask1_high]\n",
      "\n",
      "#  Plot the results\n",
      "fig = plt.figure(figsize=(10,7))\n",
      "gs = gridspec.GridSpec(1,1)\n",
      "ax0 = plt.subplot(gs[0])\n",
      "\n",
      "volume, N, midbin =  volume_bins(r_lowFeH, bins=10)\n",
      "ax0.plot(midbin, N, linestyle='steps-mid', lw=2.0, label='$[Fe/H] < -1.0$')\n",
      "volume, N, midbin =  volume_bins(r_highFeH, bins=10)\n",
      "ax0.plot(midbin, N, linestyle='steps-mid', lw=2.0, label='$[Fe/H] > -1.0$')\n",
      "\n",
      "ax0.legend(loc=2)\n",
      "ax0.set_xlabel('r-band mag')\n",
      "ax0.set_ylabel('Number of sources')\n",
      "ax0.set_title('$0.2 < g - r < 0.4$')\n",
      "#ax0.semilogy()"
     ],
     "language": "python",
     "metadata": {},
     "outputs": [
      {
       "metadata": {},
       "output_type": "pyout",
       "prompt_number": 320,
       "text": [
        "<matplotlib.text.Text at 0x7f18c471a710>"
       ]
      },
      {
       "metadata": {},
       "output_type": "display_data",
       "png": "[encoded data removed]",
       "text": [
        "<matplotlib.figure.Figure at 0x7f18c4743e50>"
       ]
      }
     ],
     "prompt_number": 320
    },
    {
     "cell_type": "markdown",
     "metadata": {},
     "source": [
      "The low metallicity (blue) differential r-band distribution seems to grow as an exponential, but then falls sharply between 20th and 21st magnitude. This downturn could possibly be explained by incompleteness as the survey is running up against its brightness lower limit. The high metallicity case looks bimodal. \n",
      "\n",
      "The bimodality of the high metallicity sample could possibly be explained by the populations of stars in the galactic disk verusus the halo, as the disk stars should appear brighter (lower apparant magnitude) and the halo stars should appear dimmer (higher aparant magnitude). As we see in the plot of ln($\\rho$) vs. Z, there is a large population of high metallicity stars within the disk, then the population sharply drops as you leave the disk, but it doesn't continue sharply dropping as it again overtakes the lower metallicity sample around 20 kpc. However, we don't expect a large population of high metallicity stars in the galactic halo. So perhaps in this second, fainter mode, we are probing an open cluster or looking at evidence of a galactic merger.\n",
      "\n",
      "The low metallicity sample can be explained in a similar fashion. We see an exponentially growing population of low metallicity stars as you go to fainter and fainter r magnitudes. There are the expected low metallicity halo stars."
     ]
    },
    {
     "cell_type": "heading",
     "level": 2,
     "metadata": {},
     "source": [
      "Problem 5.)"
     ]
    },
    {
     "cell_type": "markdown",
     "metadata": {},
     "source": [
      ">What should be the faint r band limit for a survey to be able to map the $ln(\\rho)$\n",
      "vs. $Z$ profile out to 100 kpc using main-sequence stars? Assume the same color\n",
      "distribution as for the SDSS sample. For a solid angle of 1 deg$^2$, how many stars\n",
      "with $0.2 < g - r < 0.4$ would you expect with distances between 90 kpc and 100\n",
      "kpc? Assume whatever additional information you need to solve this problem (not all\n",
      "required information is provided here)."
     ]
    },
    {
     "cell_type": "markdown",
     "metadata": {},
     "source": [
      "We can approach the first question by using the distance modulus formula to compute the apparant r-band magnitude given an absolute magnitude at a distance of 100 kpc. That is,  \n",
      "$$ r = M_r + 5 \\times log_{10} \\left (\\frac{100kpc}{10pc} \\right ) $$  \n",
      "This is clearly sensitive to choice of $M_r$, so we must choose such that the population is well represented."
     ]
    },
    {
     "cell_type": "code",
     "collapsed": false,
     "input": [
      "# If Mr is the median absolute magnitude for all stars in sample\n",
      "M5 = np.median(Mr)\n",
      "r5 = calc_r(M5)\n",
      "print r5"
     ],
     "language": "python",
     "metadata": {},
     "outputs": [
      {
       "output_type": "stream",
       "stream": "stdout",
       "text": [
        "27.0353502397\n"
       ]
      }
     ],
     "prompt_number": 229
    },
    {
     "cell_type": "code",
     "collapsed": false,
     "input": [
      "# If Mr is the median absolute magnitude for stars with 0.2 < g-r < 0.4\n",
      "M1 = np.median(Mr[mask1])\n",
      "r1 = calc_r(M1)\n",
      "print r1"
     ],
     "language": "python",
     "metadata": {},
     "outputs": [
      {
       "output_type": "stream",
       "stream": "stdout",
       "text": [
        "24.6391229991\n"
       ]
      }
     ],
     "prompt_number": 224
    },
    {
     "cell_type": "code",
     "collapsed": false,
     "input": [
      "# If Mr is the median absolute magnitude for stars with 0.4 < g-r < 0.6\n",
      "M2 = np.median(Mr[mask2])\n",
      "r2 = calc_r(M2)\n",
      "print r2"
     ],
     "language": "python",
     "metadata": {},
     "outputs": [
      {
       "output_type": "stream",
       "stream": "stdout",
       "text": [
        "25.5869727752\n"
       ]
      }
     ],
     "prompt_number": 226
    },
    {
     "cell_type": "code",
     "collapsed": false,
     "input": [
      "# If Mr is the median absolute magnitude for stars with 0.6 < g-r < 0.8\n",
      "M3 = np.median(Mr[mask3])\n",
      "r3 = calc_r(M3)\n",
      "print r3"
     ],
     "language": "python",
     "metadata": {},
     "outputs": [
      {
       "output_type": "stream",
       "stream": "stdout",
       "text": [
        "26.1888335076\n"
       ]
      }
     ],
     "prompt_number": 227
    },
    {
     "cell_type": "code",
     "collapsed": false,
     "input": [
      "# If Mr is the median absolute magnitude for stars with 0.8 < g-r < 1.0\n",
      "M4 = np.median(Mr[mask4])\n",
      "r4 = calc_r(M4)\n",
      "print r4"
     ],
     "language": "python",
     "metadata": {},
     "outputs": [
      {
       "output_type": "stream",
       "stream": "stdout",
       "text": [
        "26.8062654272\n"
       ]
      }
     ],
     "prompt_number": 228
    },
    {
     "cell_type": "markdown",
     "metadata": {},
     "source": [
      "These are interesting results on their own because they show how you require a *fainter* r-band limit in order to study redder stars at an equal distance. However, I think the best solution is to use the median absolute magnitude for stars in the \"believable\" halo region (4kpc < Z < 17kpc)"
     ]
    },
    {
     "cell_type": "code",
     "collapsed": false,
     "input": [
      "# If Mr is the median absolute magnitude for stars in the \"believable\" halo\n",
      "# region (4kpc < Z < 17kpc)\n",
      "maskz = np.logical_and(Z > 4000, Z < 17000)\n",
      "Mz = np.median(Mr[maskz])\n",
      "rz = calc_r(Mz)\n",
      "print rz"
     ],
     "language": "python",
     "metadata": {},
     "outputs": [
      {
       "output_type": "stream",
       "stream": "stdout",
       "text": [
        "25.3329995754\n"
       ]
      }
     ],
     "prompt_number": 310
    },
    {
     "cell_type": "markdown",
     "metadata": {},
     "source": [
      "Using this result, we conclude that a **faint r-band limit of 25.3** would allow us to map the $ln(\\rho)$ vs. $Z$ profile out to 100 kpc.  \n",
      "\n",
      "Now we can tackle the second question by utilizing the linear fit (in log space) of ln($\\rho$) vs. Z to extrapolate out to 100 kpc and then multiply by the correct volume. "
     ]
    },
    {
     "cell_type": "code",
     "collapsed": false,
     "input": [
      "rho_100 = 10**(p[0]*100. + p[1])\n",
      "solid_angle = (180/180.)*np.pi # in radians\n",
      "volume = (solid_angle)*(100.**3.0 - 90.**3.0)/3.0\n",
      "N_100 = rho_100*volume\n",
      "print str(N_100)+\" stars predicted between 90 and 100 kpc.\""
     ],
     "language": "python",
     "metadata": {},
     "outputs": [
      {
       "output_type": "stream",
       "stream": "stdout",
       "text": [
        "9.72639226226e-18 stars predicted between 90 and 100 kpc.\n"
       ]
      }
     ],
     "prompt_number": 329
    },
    {
     "cell_type": "markdown",
     "metadata": {},
     "source": [
      "This essentially means that, given our assumptions, there should be no stars between 90 kpc and 100 kpc. However, we know this isn't true. It seems like extrapolating on an already poor fit to the data is questionable, at best. I suspect that we would need to more appropriatley account for stars in our sample that we cannot detect past the faint r-band limit, while also assuming a better known drop in halo density.  "
     ]
    },
    {
     "cell_type": "code",
     "collapsed": false,
     "input": [],
     "language": "python",
     "metadata": {},
     "outputs": []
    }
   ],
   "metadata": {}
  }
 ]
}