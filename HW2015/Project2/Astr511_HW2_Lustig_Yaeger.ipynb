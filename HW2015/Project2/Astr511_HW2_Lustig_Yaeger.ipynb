{
 "metadata": {
  "name": "",
  "signature": "sha256:acb51efb307d41105927c9e5729fe9d5f8df3121b4e2502d0b93067fe0fef8fb"
 },
 "nbformat": 3,
 "nbformat_minor": 0,
 "worksheets": [
  {
   "cells": [
    {
     "cell_type": "heading",
     "level": 1,
     "metadata": {},
     "source": [
      "Term Project #2 "
     ]
    },
    {
     "cell_type": "markdown",
     "metadata": {},
     "source": [
      "Author: Jacob Lustig-Yaeger  \n",
      "\n",
      "\n"
     ]
    },
    {
     "cell_type": "code",
     "collapsed": false,
     "input": [],
     "language": "python",
     "metadata": {},
     "outputs": []
    }
   ],
   "metadata": {}
  }
 ]
}