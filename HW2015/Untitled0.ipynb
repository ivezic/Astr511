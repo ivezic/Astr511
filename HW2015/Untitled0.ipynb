{
 "metadata": {
  "name": "",
  "signature": "sha256:8d6eb1c550656f15340690318a2bda4815579f3eaedb65c482f92a22f1f90697"
 },
 "nbformat": 3,
 "nbformat_minor": 0,
 "worksheets": []
}