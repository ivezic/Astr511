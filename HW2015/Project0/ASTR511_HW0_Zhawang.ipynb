{
 "metadata": {
  "name": "",
  "signature": "sha256:5ba450c3fdcac98a54eb27290d25a266c76151b25fa3bee937173fc25f7f1fbd"
 },
 "nbformat": 3,
 "nbformat_minor": 0,
 "worksheets": [
  {
   "cells": [
    {
     "cell_type": "code",
     "collapsed": false,
     "input": [
      "import numpy as np\n",
      "from astropy.io import fits\n",
      "import astroML\n",
      "from astroML.datasets import fetch_sdss_S82standards\n",
      "from astroML.datasets import fetch_dr7_quasar\n",
      "#Load magnitude data of stars and quasars from astroML\n",
      "stars = fetch_sdss_S82standards(crossmatch_2mass=True)\n",
      "raw_quasars = fetch_dr7_quasar()\n",
      "#Keep data of quasars within z<2.5\n",
      "quasarsmask = (raw_quasars['redshift']<2.5)\n",
      "quasars = raw_quasars[quasarsmask]\n",
      "# Load magnitude data of galaxies from http://sdss.physics.nyu.edu/vagc-dr7/vagc2/\n",
      "raw_sdss_galaxies = fits.open('object_sdss_imaging.fits')[1].data[::10]\n",
      "raw_2mass_galaxies = fits.open('object_twomass.fits')[1].data[::10]\n",
      "#Remove data from 2mass with 0 magnitude for chosen bands\n",
      "galaxies_mask = (raw_2mass_galaxies['J_M_K20FE']!=0)&(raw_2mass_galaxies['H_M_K20FE']!=0)&(raw_2mass_galaxies['K_M_K20FE']!=0)\n",
      "raw2_sdss_galaxies = raw_sdss_galaxies[galaxies_mask]\n",
      "twomass_galaxies = raw_2mass_galaxies[:][galaxies_mask]\n",
      "#Convert SDSS galaxy data into correct units\n",
      "sdss_galaxies = 22.5-2.5*np.log10(raw2_sdss_galaxies[:]['PSFFLUX'])\n",
      "\n",
      "#scatter figures\n",
      "import matplotlib.pyplot as plt\n",
      "%matplotlib inline\n",
      "fig = plt.figure()\n",
      "fig, ((ax1, ax2), (ax3, ax4)) = plt.subplots(2, 2, figsize = (12, 10))\n",
      "#set size of points\n",
      "sizeofpoints=0.1\n",
      "#r^*-i^* vs g^*-r^*\n",
      "ax1.scatter(stars['mmu_g']-stars['mmu_r'], stars['mmu_r']-stars['mmu_i'],s=sizeofpoints,color='red',label='Stars')\n",
      "ax1.scatter(quasars['mag_g']-quasars['mag_r'], quasars['mag_r']-quasars['mag_i'],s=sizeofpoints,color='blue',marker='o',label='Quasars')\n",
      "ax1.scatter(sdss_galaxies[:,1]-sdss_galaxies[:,2],sdss_galaxies[:,2]-sdss_galaxies[:,3],s=sizeofpoints,color='green',label='Galaxies')\n",
      "ax1.set_xlim(-0.5, 2)\n",
      "ax1.set_ylim(-0.5,3)\n",
      "ax1.set_xlabel('$g^*-r^*$', fontsize=18)\n",
      "ax1.set_ylabel('$r^*-i^*$', fontsize=18)\n",
      "#J-K_s vs g^*-i^*\n",
      "ax2.scatter(stars['mmu_g']-stars['mmu_i'], stars['J']-stars['K'],s=sizeofpoints,color='red',label='Stars')\n",
      "ax2.scatter(quasars['mag_g']-quasars['mag_i'], quasars['mag_J']-quasars['mag_K'],s=sizeofpoints,color='blue',marker='o',label='Quasars')\n",
      "ax2.scatter(sdss_galaxies[:,1]-sdss_galaxies[:,3],twomass_galaxies['J_M_K20FE'][:]-twomass_galaxies['K_M_K20FE'][:],s=sizeofpoints,color='green',label='Galaxies')\n",
      "ax2.set_xlim(-1,4.5)\n",
      "ax2.set_ylim(-0.5,3)\n",
      "ax2.set_xlabel('$g^* - i^*$', fontsize=18)\n",
      "ax2.set_ylabel('$J - K_s$', fontsize=18)\n",
      "ax2.annotate('QSOs', (-0.2, 2.0), fontsize=12)\n",
      "ax2.annotate('galaxies', (1.5, 1.9), fontsize=12)\n",
      "ax2.annotate('stars', (2.2, 0.3),fontsize=12)\n",
      "#H-K_s vs J-H\n",
      "ax3.scatter(stars['J']-stars['H'], stars['H']-stars['K'],s=sizeofpoints,color='red',label='Stars')\n",
      "ax3.scatter(quasars['mag_J']-quasars['mag_H'], quasars['mag_H']-quasars['mag_K'],s=sizeofpoints,color='blue',marker='o',label='Quasars')\n",
      "ax3.scatter(twomass_galaxies['J_M_K20FE'][:]-twomass_galaxies['H_M_K20FE'][:],twomass_galaxies['H_M_K20FE'][:]-twomass_galaxies['K_M_K20FE'][:],s=sizeofpoints,color='green',label='Galaxies')\n",
      "ax3.set_xlim(-0.5,2)\n",
      "ax3.set_ylim(-1,2)\n",
      "ax3.set_xlabel('$J - H$', fontsize=18)\n",
      "ax3.set_ylabel('$H - K_s$', fontsize=18)\n",
      "#i^*-K_s vs g^*-i^*\n",
      "ax4.scatter(stars['mmu_g']-stars['mmu_i'], stars['mmu_i']-stars['K'],s=sizeofpoints,color='red',label='Stars')\n",
      "ax4.scatter(quasars['mag_g']-quasars['mag_i'], quasars['mag_i']-quasars['mag_K'],s=sizeofpoints,color='blue',marker='o',label='Quasars')\n",
      "ax4.scatter(sdss_galaxies[:,1]-sdss_galaxies[:,3],sdss_galaxies[:,3]-twomass_galaxies['K_M_K20FE'][:],s=sizeofpoints,color='green',label='Galaxies')\n",
      "ax4.set_xlim(-1,4.5)\n",
      "ax4.set_ylim(-0.5,6)\n",
      "ax4.set_xlabel('$g^* - i^*$', fontsize=18)\n",
      "ax4.set_ylabel('$i^* - K_s$', fontsize=18)\n",
      "ax4.annotate('QSOs', (-0.5, 3.5), fontsize=12)\n",
      "ax4.annotate('galaxies', (1.2, 5.5), fontsize=12)\n",
      "ax4.annotate('stars', (2.2, 2.3),fontsize=12)\n",
      "\n",
      "fig.tight_layout()"
     ],
     "language": "python",
     "metadata": {},
     "outputs": [
      {
       "ename": "IOError",
       "evalue": "File does not exist: 'object_sdss_imaging.fits'",
       "output_type": "pyerr",
       "traceback": [
        "\u001b[0;31m---------------------------------------------------------------------------\u001b[0m\n\u001b[0;31mIOError\u001b[0m                                   Traceback (most recent call last)",
        "\u001b[0;32m<ipython-input-2-12e7ccf933af>\u001b[0m in \u001b[0;36m<module>\u001b[0;34m()\u001b[0m\n\u001b[1;32m     11\u001b[0m \u001b[0mquasars\u001b[0m \u001b[0;34m=\u001b[0m \u001b[0mraw_quasars\u001b[0m\u001b[0;34m[\u001b[0m\u001b[0mquasarsmask\u001b[0m\u001b[0;34m]\u001b[0m\u001b[0;34m\u001b[0m\u001b[0m\n\u001b[1;32m     12\u001b[0m \u001b[0;31m# Load magnitude data of galaxies from http://sdss.physics.nyu.edu/vagc-dr7/vagc2/\u001b[0m\u001b[0;34m\u001b[0m\u001b[0;34m\u001b[0m\u001b[0m\n\u001b[0;32m---> 13\u001b[0;31m \u001b[0mraw_sdss_galaxies\u001b[0m \u001b[0;34m=\u001b[0m \u001b[0mfits\u001b[0m\u001b[0;34m.\u001b[0m\u001b[0mopen\u001b[0m\u001b[0;34m(\u001b[0m\u001b[0;34m'object_sdss_imaging.fits'\u001b[0m\u001b[0;34m)\u001b[0m\u001b[0;34m[\u001b[0m\u001b[0;36m1\u001b[0m\u001b[0;34m]\u001b[0m\u001b[0;34m.\u001b[0m\u001b[0mdata\u001b[0m\u001b[0;34m[\u001b[0m\u001b[0;34m:\u001b[0m\u001b[0;34m:\u001b[0m\u001b[0;36m10\u001b[0m\u001b[0;34m]\u001b[0m\u001b[0;34m\u001b[0m\u001b[0m\n\u001b[0m\u001b[1;32m     14\u001b[0m \u001b[0mraw_2mass_galaxies\u001b[0m \u001b[0;34m=\u001b[0m \u001b[0mfits\u001b[0m\u001b[0;34m.\u001b[0m\u001b[0mopen\u001b[0m\u001b[0;34m(\u001b[0m\u001b[0;34m'object_twomass.fits'\u001b[0m\u001b[0;34m)\u001b[0m\u001b[0;34m[\u001b[0m\u001b[0;36m1\u001b[0m\u001b[0;34m]\u001b[0m\u001b[0;34m.\u001b[0m\u001b[0mdata\u001b[0m\u001b[0;34m[\u001b[0m\u001b[0;34m:\u001b[0m\u001b[0;34m:\u001b[0m\u001b[0;36m10\u001b[0m\u001b[0;34m]\u001b[0m\u001b[0;34m\u001b[0m\u001b[0m\n\u001b[1;32m     15\u001b[0m \u001b[0;31m#Remove data from 2mass with 0 magnitude for chosen bands\u001b[0m\u001b[0;34m\u001b[0m\u001b[0;34m\u001b[0m\u001b[0m\n",
        "\u001b[0;32m/Users/zhangluwang/anaconda/lib/python2.7/site-packages/astropy/io/fits/hdu/hdulist.pyc\u001b[0m in \u001b[0;36mfitsopen\u001b[0;34m(name, mode, memmap, save_backup, **kwargs)\u001b[0m\n\u001b[1;32m    117\u001b[0m         \u001b[0;32mraise\u001b[0m \u001b[0mValueError\u001b[0m\u001b[0;34m(\u001b[0m\u001b[0;34m'Empty filename: %s'\u001b[0m \u001b[0;34m%\u001b[0m \u001b[0mrepr\u001b[0m\u001b[0;34m(\u001b[0m\u001b[0mname\u001b[0m\u001b[0;34m)\u001b[0m\u001b[0;34m)\u001b[0m\u001b[0;34m\u001b[0m\u001b[0m\n\u001b[1;32m    118\u001b[0m \u001b[0;34m\u001b[0m\u001b[0m\n\u001b[0;32m--> 119\u001b[0;31m     \u001b[0;32mreturn\u001b[0m \u001b[0mHDUList\u001b[0m\u001b[0;34m.\u001b[0m\u001b[0mfromfile\u001b[0m\u001b[0;34m(\u001b[0m\u001b[0mname\u001b[0m\u001b[0;34m,\u001b[0m \u001b[0mmode\u001b[0m\u001b[0;34m,\u001b[0m \u001b[0mmemmap\u001b[0m\u001b[0;34m,\u001b[0m \u001b[0msave_backup\u001b[0m\u001b[0;34m,\u001b[0m \u001b[0;34m**\u001b[0m\u001b[0mkwargs\u001b[0m\u001b[0;34m)\u001b[0m\u001b[0;34m\u001b[0m\u001b[0m\n\u001b[0m\u001b[1;32m    120\u001b[0m \u001b[0;34m\u001b[0m\u001b[0m\n\u001b[1;32m    121\u001b[0m \u001b[0;34m\u001b[0m\u001b[0m\n",
        "\u001b[0;32m/Users/zhangluwang/anaconda/lib/python2.7/site-packages/astropy/io/fits/hdu/hdulist.pyc\u001b[0m in \u001b[0;36mfromfile\u001b[0;34m(cls, fileobj, mode, memmap, save_backup, **kwargs)\u001b[0m\n\u001b[1;32m    249\u001b[0m \u001b[0;34m\u001b[0m\u001b[0m\n\u001b[1;32m    250\u001b[0m         return cls._readfrom(fileobj=fileobj, mode=mode, memmap=memmap,\n\u001b[0;32m--> 251\u001b[0;31m                              save_backup=save_backup, **kwargs)\n\u001b[0m\u001b[1;32m    252\u001b[0m \u001b[0;34m\u001b[0m\u001b[0m\n\u001b[1;32m    253\u001b[0m     \u001b[0;34m@\u001b[0m\u001b[0mclassmethod\u001b[0m\u001b[0;34m\u001b[0m\u001b[0m\n",
        "\u001b[0;32m/Users/zhangluwang/anaconda/lib/python2.7/site-packages/astropy/io/fits/hdu/hdulist.pyc\u001b[0m in \u001b[0;36m_readfrom\u001b[0;34m(cls, fileobj, data, mode, memmap, save_backup, **kwargs)\u001b[0m\n\u001b[1;32m    766\u001b[0m             \u001b[0;32mif\u001b[0m \u001b[0;32mnot\u001b[0m \u001b[0misinstance\u001b[0m\u001b[0;34m(\u001b[0m\u001b[0mfileobj\u001b[0m\u001b[0;34m,\u001b[0m \u001b[0m_File\u001b[0m\u001b[0;34m)\u001b[0m\u001b[0;34m:\u001b[0m\u001b[0;34m\u001b[0m\u001b[0m\n\u001b[1;32m    767\u001b[0m                 \u001b[0;31m# instantiate a FITS file object (ffo)\u001b[0m\u001b[0;34m\u001b[0m\u001b[0;34m\u001b[0m\u001b[0m\n\u001b[0;32m--> 768\u001b[0;31m                 \u001b[0mffo\u001b[0m \u001b[0;34m=\u001b[0m \u001b[0m_File\u001b[0m\u001b[0;34m(\u001b[0m\u001b[0mfileobj\u001b[0m\u001b[0;34m,\u001b[0m \u001b[0mmode\u001b[0m\u001b[0;34m=\u001b[0m\u001b[0mmode\u001b[0m\u001b[0;34m,\u001b[0m \u001b[0mmemmap\u001b[0m\u001b[0;34m=\u001b[0m\u001b[0mmemmap\u001b[0m\u001b[0;34m)\u001b[0m\u001b[0;34m\u001b[0m\u001b[0m\n\u001b[0m\u001b[1;32m    769\u001b[0m             \u001b[0;32melse\u001b[0m\u001b[0;34m:\u001b[0m\u001b[0;34m\u001b[0m\u001b[0m\n\u001b[1;32m    770\u001b[0m                 \u001b[0mffo\u001b[0m \u001b[0;34m=\u001b[0m \u001b[0mfileobj\u001b[0m\u001b[0;34m\u001b[0m\u001b[0m\n",
        "\u001b[0;32m/Users/zhangluwang/anaconda/lib/python2.7/site-packages/astropy/io/fits/file.pyc\u001b[0m in \u001b[0;36m__init__\u001b[0;34m(self, fileobj, mode, memmap, clobber)\u001b[0m\n\u001b[1;32m    128\u001b[0m                 \u001b[0;31m# A couple different exceptions can occur here when passing a\u001b[0m\u001b[0;34m\u001b[0m\u001b[0;34m\u001b[0m\u001b[0m\n\u001b[1;32m    129\u001b[0m                 \u001b[0;31m# filename into urlretrieve in Python 3\u001b[0m\u001b[0;34m\u001b[0m\u001b[0;34m\u001b[0m\u001b[0m\n\u001b[0;32m--> 130\u001b[0;31m                 \u001b[0;32mraise\u001b[0m \u001b[0mIOError\u001b[0m\u001b[0;34m(\u001b[0m\u001b[0;34m'File does not exist: {0!r}'\u001b[0m\u001b[0;34m.\u001b[0m\u001b[0mformat\u001b[0m\u001b[0;34m(\u001b[0m\u001b[0mfileobj\u001b[0m\u001b[0;34m)\u001b[0m\u001b[0;34m)\u001b[0m\u001b[0;34m\u001b[0m\u001b[0m\n\u001b[0m\u001b[1;32m    131\u001b[0m         \u001b[0;32melse\u001b[0m\u001b[0;34m:\u001b[0m\u001b[0;34m\u001b[0m\u001b[0m\n\u001b[1;32m    132\u001b[0m             \u001b[0mself\u001b[0m\u001b[0;34m.\u001b[0m\u001b[0mname\u001b[0m \u001b[0;34m=\u001b[0m \u001b[0mfileobj_name\u001b[0m\u001b[0;34m(\u001b[0m\u001b[0mfileobj\u001b[0m\u001b[0;34m)\u001b[0m\u001b[0;34m\u001b[0m\u001b[0m\n",
        "\u001b[0;31mIOError\u001b[0m: File does not exist: 'object_sdss_imaging.fits'"
       ]
      }
     ],
     "prompt_number": 2
    },
    {
     "cell_type": "code",
     "collapsed": false,
     "input": [],
     "language": "python",
     "metadata": {},
     "outputs": []
    }
   ],
   "metadata": {}
  }
 ]
}